{
 "cells": [
  {
   "cell_type": "code",
   "execution_count": 1,
   "metadata": {},
   "outputs": [
    {
     "name": "stdout",
     "output_type": "stream",
     "text": [
      "[*********************100%***********************]  1 of 1 completed\n",
      "[*********************100%***********************]  1 of 1 completed\n",
      "                   Open         High          Low        Close    Adj Close  \\\n",
      "Date                                                                          \n",
      "2021-12-24  4953.060059  4964.910156  4905.979980  4921.339844  4921.339844   \n",
      "2021-12-27  4918.149902  4939.689941  4894.160156  4919.319824  4919.319824   \n",
      "2021-12-28  4923.689941  4959.140137  4913.600098  4955.959961  4955.959961   \n",
      "2021-12-29  4958.649902  4958.649902  4883.479980  4883.479980  4883.479980   \n",
      "2021-12-30  4882.160156  4940.180176  4878.649902  4921.509766  4921.509766   \n",
      "\n",
      "            Volume  \n",
      "Date                \n",
      "2021-12-24  142700  \n",
      "2021-12-27  124100  \n",
      "2021-12-28  130500  \n",
      "2021-12-29  113600  \n",
      "2021-12-30  121600  \n",
      "                   Open         High          Low        Close    Adj Close  \\\n",
      "Date                                                                          \n",
      "2022-01-04  4957.979980  4961.450195  4874.529785  4917.770020  4917.770020   \n",
      "2022-01-05  4907.930176  4916.279785  4851.979980  4868.120117  4868.120117   \n",
      "2022-01-06  4842.160156  4857.560059  4786.430176  4818.229980  4818.229980   \n",
      "2022-01-07  4824.319824  4856.649902  4818.189941  4822.370117  4822.370117   \n",
      "2022-01-10  4812.229980  4844.390137  4780.819824  4844.049805  4844.049805   \n",
      "\n",
      "            Volume  \n",
      "Date                \n",
      "2022-01-04  151500  \n",
      "2022-01-05  178800  \n",
      "2022-01-06  157700  \n",
      "2022-01-07  187100  \n",
      "2022-01-10  156200  \n"
     ]
    }
   ],
   "source": [
    "import yfinance as yf\n",
    "import pandas as pd\n",
    "\n",
    "# 设置下载数据的时间范围为2021年一整年\n",
    "start_date = '2021-01-01'\n",
    "end_date = '2021-12-31'\n",
    "\n",
    "# 设置测试数据的时间范围为2021年之后的一个月\n",
    "# 注意：如果2021年12月的数据不完整，则测试数据的开始日期应为最后一个完整的交易日\n",
    "test_start_date = '2022-01-01'\n",
    "test_end_date = '2022-01-31'\n",
    "\n",
    "# 定义沪深300指数的ticker\n",
    "ticker = \"000300.SS\"\n",
    "\n",
    "# 使用yfinance下载数据\n",
    "data = yf.download(ticker, start=start_date, end=end_date)\n",
    "test_data = yf.download(ticker, start=test_start_date, end=test_end_date)\n",
    "\n",
    "# 检查数据\n",
    "print(data.tail())  # 打印训练数据集的最后几行\n",
    "print(test_data.head())  # 打印测试数据集的前几行\n",
    "\n",
    "# 如果需要，可以将数据保存到CSV文件\n",
    "# data.to_csv('training_data_2021.csv')\n",
    "# test_data.to_csv('test_data_2022.csv')"
   ]
  },
  {
   "cell_type": "code",
   "execution_count": 2,
   "metadata": {},
   "outputs": [
    {
     "name": "stdout",
     "output_type": "stream",
     "text": [
      "Training close prices array length: 199\n",
      "Test close prices array length: 19\n"
     ]
    }
   ],
   "source": [
    "# 提取收盘价\n",
    "data = data['Close'].values\n",
    "test_data = test_data['Close'].values\n",
    "\n",
    "# 打印以验证\n",
    "print(\"Training close prices array length:\", len(data))\n",
    "print(\"Test close prices array length:\", len(test_data))"
   ]
  },
  {
   "cell_type": "code",
   "execution_count": 4,
   "metadata": {},
   "outputs": [
    {
     "name": "stdout",
     "output_type": "stream",
     "text": [
      "ADF Statistic: -2.714115938322668\n",
      "p-value: 0.07162728589758939\n"
     ]
    }
   ],
   "source": [
    "import numpy as np\n",
    "import pandas as pd\n",
    "from statsmodels.tsa.arima.model import ARIMA\n",
    "from statsmodels.tsa.stattools import adfuller\n",
    "import warnings\n",
    "\n",
    "warnings.filterwarnings(\"ignore\")  # 忽略可能出现的警告信息\n",
    "\n",
    "# 检查时间序列的平稳性\n",
    "adf_test = adfuller(data)\n",
    "print(f\"ADF Statistic: {adf_test[0]}\")\n",
    "print(f\"p-value: {adf_test[1]}\")\n",
    "\n",
    "# 定义一个函数来拟合AR模型并选择最佳的p值\n",
    "def fit_ar_model(timeseries, max_p=3):\n",
    "    best_aic = np.inf\n",
    "    best_p = None\n",
    "    best_model = None\n",
    "\n",
    "    # 遍历不同的p值\n",
    "    for p in range(1, max_p + 1):\n",
    "        try:\n",
    "            # 使用ARIMA模型，其中q=0表示纯AR模型\n",
    "            model = ARIMA(timeseries, order=(p, 0, 0)).fit()\n",
    "            aic = model.aic\n",
    "            if aic < best_aic:\n",
    "                \n",
    "                best_aic = aic\n",
    "                best_p = p\n",
    "                best_model = model\n",
    "        except:  # 捕捉并忽略拟合过程中可能出现的异常\n",
    "            continue\n",
    "\n",
    "    # 输出最佳模型的结果\n",
    "    if best_model is not None:\n",
    "        print(f\"Best AR Model p: {best_p}\")\n",
    "        print(f\"AIC: {best_aic}\")\n",
    "        print(\"Model coefficients:\")\n",
    "        print(best_model.params)\n",
    "    else:\n",
    "        print(\"A suitable AR model was not found.\")\n",
    "\n",
    "    return best_model"
   ]
  },
  {
   "cell_type": "code",
   "execution_count": 6,
   "metadata": {},
   "outputs": [
    {
     "name": "stdout",
     "output_type": "stream",
     "text": [
      "ADF Statistic after diff: -7.333410628677049\n",
      "p-value after diff: 1.112515687429802e-10\n",
      "Best AR Model p: 5\n",
      "AIC: -1245.5150066708698\n",
      "Model coefficients:\n",
      "const    -0.000202\n",
      "ar.L1     0.016517\n",
      "ar.L2    -0.096144\n",
      "ar.L3    -0.001462\n",
      "ar.L4     0.035077\n",
      "ar.L5    -0.206347\n",
      "sigma2    0.000101\n",
      "dtype: float64\n"
     ]
    }
   ],
   "source": [
    "close_prices = pd.Series(data)\n",
    "\n",
    "# 对Close价格进行对数变换\n",
    "close_prices_log = np.log(close_prices)\n",
    "\n",
    "# 进行一阶差分\n",
    "close_prices_log_diff = close_prices_log.diff().dropna()\n",
    "\n",
    "# 再次检查平稳性\n",
    "adf_test_diff = adfuller(close_prices_log_diff)\n",
    "print(f\"ADF Statistic after diff: {adf_test_diff[0]}\")\n",
    "print(f\"p-value after diff: {adf_test_diff[1]}\")\n",
    "\n",
    "if adf_test_diff[1] < 0.05:\n",
    "    # 拟合AR模型\n",
    "    best_ar_model = fit_ar_model(close_prices_log_diff, max_p=7)"
   ]
  },
  {
   "cell_type": "code",
   "execution_count": 9,
   "metadata": {},
   "outputs": [
    {
     "name": "stdout",
     "output_type": "stream",
     "text": [
      "MSE AR: 26702.612542482275\n",
      "RMSE AR: 163.40934043830626\n"
     ]
    }
   ],
   "source": [
    "from sklearn.metrics import mean_squared_error\n",
    "\n",
    "predicted_values_wo = best_ar_model.forecast(steps=19)\n",
    "\n",
    "# 使用`iloc`获取最后一个值\n",
    "last_value = close_prices_log.iloc[-1]\n",
    "\n",
    "# 将预测值转换回原始尺度\n",
    "predicted_values_wo_original_scale = np.exp(np.cumsum(np.array(predicted_values_wo)) + last_value)\n",
    "\n",
    "# 计算预测值与实际值之间的MSE\n",
    "mse = mean_squared_error(test_data, predicted_values_wo_original_scale)\n",
    "\n",
    "print(f\"MSE AR: {mse}\")\n",
    "\n",
    "# 如果需要，您也可以计算其他指标，如MAE或RMSE\n",
    "# 例如，计算RMSE（均方根误差）\n",
    "rmse = np.sqrt(mse)\n",
    "print(f\"RMSE AR: {rmse}\")"
   ]
  },
  {
   "cell_type": "code",
   "execution_count": 10,
   "metadata": {},
   "outputs": [
    {
     "name": "stdout",
     "output_type": "stream",
     "text": [
      "MSE: 18872.048172644587\n",
      "RMSE: 137.37557342062158\n"
     ]
    }
   ],
   "source": [
    "import numpy as np\n",
    "import pandas as pd\n",
    "from pykalman import KalmanFilter\n",
    "\n",
    "# 假设best_ar_model是一个已经拟合好的AR模型，它的系数可以通过best_ar_model.params获得\n",
    "# 这里的ar_order是AR模型的阶数\n",
    "ar_coeffs = best_ar_model.params\n",
    "ar_order = len(ar_coeffs) - 1  # 减去截距项\n",
    "\n",
    "# 初始化卡尔曼滤波器的参数\n",
    "transition_matrices = np.eye(ar_order)\n",
    "observation_matrices = ar_coeffs[1:].values.reshape(1, -1)  # 不包含截距\n",
    "initial_state_mean = close_prices_log_diff.values[-ar_order:]  # 取时间序列的最后ar_order个值作为初始状态\n",
    "initial_state_covariance = np.eye(ar_order)\n",
    "\n",
    "\n",
    "# 创建卡尔曼滤波器实例\n",
    "kf = KalmanFilter(\n",
    "    transition_matrices=transition_matrices,\n",
    "    observation_matrices=observation_matrices,\n",
    "    initial_state_mean=initial_state_mean,\n",
    "    initial_state_covariance=initial_state_covariance\n",
    ")\n",
    "\n",
    "# 使用卡尔曼滤波器更新AR模型的系数\n",
    "state_means, state_covariances = kf.filter(close_prices_log_diff.values)\n",
    "\n",
    "# 使用更新后的系数进行预测\n",
    "predicted_values = []\n",
    "current_state = state_means[-1]\n",
    "\n",
    "for _ in range(19):  # 预测未来19个值\n",
    "    current_state = transition_matrices.dot(current_state)\n",
    "    predicted_value = observation_matrices.dot(current_state) + ar_coeffs[0]  # 加上截距项\n",
    "    predicted_values.append(predicted_value)\n",
    "\n",
    "# 使用`iloc`获取最后一个值\n",
    "last_value = close_prices_log.iloc[-1]\n",
    "\n",
    "# 将预测值转换回原始尺度\n",
    "predicted_values_original_scale = np.exp(np.cumsum(np.array(predicted_values)) + last_value)\n",
    "\n",
    "# 确保test_data是一个numpy数组\n",
    "test_data_array = test_data.values if isinstance(test_data, pd.Series) else test_data\n",
    "\n",
    "# 计算MSE和RMSE\n",
    "mse = np.mean((test_data_array - predicted_values_original_scale) ** 2)\n",
    "rmse = np.sqrt(mse)\n",
    "\n",
    "print(f\"MSE: {mse}\")\n",
    "print(f\"RMSE: {rmse}\")"
   ]
  },
  {
   "cell_type": "code",
   "execution_count": 11,
   "metadata": {},
   "outputs": [
    {
     "data": {
      "image/png": "[encoded data removed]",
      "text/plain": [
       "<Figure size 1000x500 with 1 Axes>"
      ]
     },
     "metadata": {},
     "output_type": "display_data"
    }
   ],
   "source": [
    "# 可视化预测值与实际值\n",
    "import matplotlib.pyplot as plt\n",
    "\n",
    "plt.figure(figsize=(10, 5))\n",
    "plt.plot(predicted_values_wo_original_scale, label='wo. Kalman AR(5)')\n",
    "plt.plot(predicted_values_original_scale, label='w. Kalman AR(5)')\n",
    "plt.plot(test_data_array, label='Actual')\n",
    "plt.legend()\n",
    "plt.show()"
   ]
  },
  {
   "cell_type": "code",
   "execution_count": null,
   "metadata": {},
   "outputs": [],
   "source": []
  }
 ],
 "metadata": {
  "kernelspec": {
   "display_name": "base",
   "language": "python",
   "name": "python3"
  },
  "language_info": {
   "codemirror_mode": {
    "name": "ipython",
    "version": 3
   },
   "file_extension": ".py",
   "mimetype": "text/x-python",
   "name": "python",
   "nbconvert_exporter": "python",
   "pygments_lexer": "ipython3",
   "version": "3.8.8"
  }
 },
 "nbformat": 4,
 "nbformat_minor": 2
}
